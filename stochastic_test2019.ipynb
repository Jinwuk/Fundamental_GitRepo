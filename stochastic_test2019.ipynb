{
  "nbformat": 4,
  "nbformat_minor": 0,
  "metadata": {
    "colab": {
      "name": "stochastic_test2019.ipynb",
      "version": "0.3.2",
      "provenance": [],
      "collapsed_sections": [],
      "include_colab_link": true
    },
    "kernelspec": {
      "name": "python3",
      "display_name": "Python 3"
    }
  },
  "cells": [
    {
      "cell_type": "markdown",
      "metadata": {
        "id": "view-in-github",
        "colab_type": "text"
      },
      "source": [
        "<a href=\"https://colab.research.google.com/github/Jinwuk/Fundamental_GitRepo/blob/master/stochastic_test2019.ipynb\" target=\"_parent\"><img src=\"https://colab.research.google.com/assets/colab-badge.svg\" alt=\"Open In Colab\"/></a>"
      ]
    },
    {
      "metadata": {
        "id": "SuPxcUFnrsto",
        "colab_type": "text"
      },
      "cell_type": "markdown",
      "source": [
        "Stochastic Test 2019-01\n",
        "====\n",
        "\n",
        "새로운 실험을 하기로 했다.\n",
        "아예 SDE 관련 라이브러리르 통쨰로 가져와서 테스트를 해보자\n",
        "이것이 중요한 이유는 나중에 알고리즘을 개발한 후, 여기서 제공하는 결과와 맞추어 볼 수 있기 때문이다.\n",
        "\n",
        "사이트는 다음과 같다.\n",
        "업데이트 여부를 항상 확인하자.\n",
        "\n",
        "https://pypi.org/project/sdeint/\n"
      ]
    },
    {
      "metadata": {
        "id": "ml92aPXYrL1r",
        "colab_type": "code",
        "outputId": "02be11db-a907-44ef-dc6a-57ae18357506",
        "colab": {
          "base_uri": "https://localhost:8080/",
          "height": 351
        }
      },
      "cell_type": "code",
      "source": [
        "import numpy as np\n",
        "import sdeint\n",
        "import matplotlib.pyplot as plt\n",
        "\n",
        "fig, ax = plt.subplots(1, 1)"
      ],
      "execution_count": 3,
      "outputs": [
        {
          "output_type": "display_data",
          "data": {
            "image/png": "[encoded data removed]",
            "text/plain": [
              "<Figure size 576x396 with 1 Axes>"
            ]
          },
          "metadata": {
            "tags": []
          }
        }
      ]
    },
    {
      "metadata": {
        "id": "QEJXmjr3LroU",
        "colab_type": "text"
      },
      "cell_type": "markdown",
      "source": [
        "다음은 함수관련 class로 보아야 할 것이다.  \n",
        "하나 예외는 아래의 np.linspace 이다. 0.0 부터 5.0 까지 5001개를 포함한다. # 시작(포함), 끝 (포함), 갯수 \n",
        "함수는 다음과 같다.\n",
        "$$\n",
        "\\begin{aligned}\n",
        "f(x) &= (a+b^2 x)(1-x^2) \\\\\n",
        "g(x)&= b(a-x^2)dW_t\n",
        "\\end{aligned}\n",
        "$$\n"
      ]
    },
    {
      "metadata": {
        "id": "J_YIry3rLjY9",
        "colab_type": "code",
        "colab": {}
      },
      "cell_type": "code",
      "source": [
        "a = 1.0\n",
        "b = 0.8\n",
        "tspan = np.linspace(0.0, 5.0, 5001)\n",
        "x0 = 0.1\n",
        "\n",
        "def f(x, t):\n",
        "    return -(a + x*b**2)*(1 - x**2)\n",
        "\n",
        "def g(x, t):\n",
        "    return b*(1 - x**2)"
      ],
      "execution_count": 0,
      "outputs": []
    },
    {
      "metadata": {
        "id": "HdjyOZGiMNHt",
        "colab_type": "text"
      },
      "cell_type": "markdown",
      "source": [
        "sdeint.itoint(f, g, x0, tspan)  를 살펴보면 직관적이다.  이것은 다음을 의미한다. \n",
        "$$\n",
        "dX_t = f(X_t, t)dt + g(X_t,t)dW_t\n",
        "$$"
      ]
    },
    {
      "metadata": {
        "id": "DnzfFoS-MLlG",
        "colab_type": "code",
        "colab": {}
      },
      "cell_type": "code",
      "source": [
        "result = sdeint.itoint(f, g, x0, tspan)"
      ],
      "execution_count": 0,
      "outputs": []
    },
    {
      "metadata": {
        "id": "5KDe2Z9YNPOj",
        "colab_type": "text"
      },
      "cell_type": "markdown",
      "source": [
        "간단하게 결과를 보면 다음과 같다."
      ]
    },
    {
      "metadata": {
        "id": "74Kn7C1tNOxE",
        "colab_type": "code",
        "colab": {
          "base_uri": "https://localhost:8080/",
          "height": 350
        },
        "outputId": "c1882d00-9c76-4476-ed47-e3257f6b9375"
      },
      "cell_type": "code",
      "source": [
        "plt.plot(tspan, result)\n",
        "plt.show()"
      ],
      "execution_count": 6,
      "outputs": [
        {
          "output_type": "display_data",
          "data": {
            "image/png": "[encoded data removed]",
            "text/plain": [
              "<Figure size 576x396 with 1 Axes>"
            ]
          },
          "metadata": {
            "tags": []
          }
        }
      ]
    }
  ]
}